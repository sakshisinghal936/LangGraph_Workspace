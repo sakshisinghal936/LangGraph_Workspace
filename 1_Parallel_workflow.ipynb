{
 "cells": [
  {
   "cell_type": "code",
   "execution_count": 35,
   "id": "15fe23a6",
   "metadata": {},
   "outputs": [],
   "source": [
    "from langgraph.graph import StateGraph, START, END\n",
    "from langchain_google_genai import ChatGoogleGenerativeAI\n",
    "from typing import TypedDict, Annotated, operator\n",
    "from pydantic import BaseModel, Field\n",
    "from langchain.prompts import PromptTemplate\n",
    "from dotenv import load_dotenv"
   ]
  },
  {
   "cell_type": "code",
   "execution_count": 36,
   "id": "552f3e5c",
   "metadata": {},
   "outputs": [
    {
     "data": {
      "text/plain": [
       "True"
      ]
     },
     "execution_count": 36,
     "metadata": {},
     "output_type": "execute_result"
    }
   ],
   "source": [
    "load_dotenv()"
   ]
  },
  {
   "cell_type": "code",
   "execution_count": 37,
   "id": "ee466422",
   "metadata": {},
   "outputs": [],
   "source": [
    "llm = ChatGoogleGenerativeAI(model=\"gemini-2.5-flash\")"
   ]
  },
  {
   "cell_type": "code",
   "execution_count": 38,
   "id": "6c8a850a",
   "metadata": {},
   "outputs": [],
   "source": [
    "class EvaluationSchema(BaseModel):\n",
    "    feedback:str = Field(description= \"Detailed feedback for the essay\")\n",
    "    score:int = Field(description= \"Score out of 10\", ge=0, le =10)\n",
    "    "
   ]
  },
  {
   "cell_type": "code",
   "execution_count": 39,
   "id": "00048378",
   "metadata": {},
   "outputs": [],
   "source": [
    "structured_model = llm.with_structured_output(EvaluationSchema)"
   ]
  },
  {
   "cell_type": "code",
   "execution_count": 40,
   "id": "4cadde63",
   "metadata": {},
   "outputs": [],
   "source": [
    "class UPSCState(TypedDict):\n",
    "    essay:str\n",
    "    thoughts_feedback: str\n",
    "    depth_feedback: str\n",
    "    language_feedback: str\n",
    "    final_feedback: str\n",
    "    final_score:int\n",
    "    individual_score: Annotated[list[int], operator.add]\n",
    "    \n"
   ]
  },
  {
   "cell_type": "code",
   "execution_count": 41,
   "id": "55ca2526",
   "metadata": {},
   "outputs": [],
   "source": [
    "def thoughts_analysis(state: UPSCState):\n",
    "    prompt = f'Evaluate the clarity of thoughts ,provide a feedback and give score out of 10 \\n {state[\"essay\"]}'\n",
    "    output = structured_model.invoke(prompt)\n",
    "    return {\"thoughts_feedback\": output.feedback,\"individual_score\": [output.score] }\n"
   ]
  },
  {
   "cell_type": "code",
   "execution_count": 42,
   "id": "db238e48",
   "metadata": {},
   "outputs": [],
   "source": [
    "def depth_analysis(state: UPSCState):\n",
    "    prompt = f'Evaluate the depth ,provide a feedback and give score out of 10 \\n {state[\"essay\"]}'\n",
    "    output = structured_model.invoke(prompt)\n",
    "    return {\"depth_feedback\": output.feedback,\"individual_score\": [output.score] }"
   ]
  },
  {
   "cell_type": "code",
   "execution_count": 53,
   "id": "285762db",
   "metadata": {},
   "outputs": [],
   "source": [
    "def language_analysis(state: UPSCState):\n",
    "    prompt = f'Evaluate the analysis of language ,provide a feedback and give score out of 10 \\n {state[\"essay\"]}'\n",
    "    output = structured_model.invoke(prompt)\n",
    "    return {\"language_feedback\": output.feedback,\"individual_score\": [output.score] }"
   ]
  },
  {
   "cell_type": "code",
   "execution_count": 52,
   "id": "16c2ffe8",
   "metadata": {},
   "outputs": [],
   "source": [
    "def final_analysis(state: UPSCState):\n",
    "    prompt = f\"Based on following feedback, prepare a summarized feedback based on \\n {state[\"thoughts_feedback\"]}, {state[\"language_feedback\"]} and{state[\"depth_feedback\"]}\"\n",
    "    output1 = llm.invoke(prompt).content\n",
    "    output2 = sum(state[\"individual_score\"])/len(state[\"individual_score\"])\n",
    "\n",
    "    return {\"final_feedback\": output1, \"final_score\": output2}\n",
    "    \n"
   ]
  },
  {
   "cell_type": "code",
   "execution_count": 54,
   "id": "57da4a2f",
   "metadata": {},
   "outputs": [],
   "source": [
    "# define graph\n",
    "graph = StateGraph(UPSCState)\n",
    "\n",
    "# add nodes\n",
    "graph.add_node(\"thoughts_analysis\", thoughts_analysis)\n",
    "graph.add_node(\"depth_analysis\", depth_analysis)\n",
    "graph.add_node(\"language_analysis\", language_analysis)\n",
    "graph.add_node(\"final_analysis\", final_analysis)\n",
    "\n",
    "#add edges\n",
    "graph.add_edge(START, \"thoughts_analysis\")\n",
    "graph.add_edge(START, \"depth_analysis\")\n",
    "graph.add_edge(START, \"language_analysis\")\n",
    "\n",
    "graph.add_edge( \"thoughts_analysis\", \"final_analysis\")\n",
    "graph.add_edge( \"depth_analysis\", \"final_analysis\")\n",
    "graph.add_edge( \"language_analysis\", \"final_analysis\")\n",
    "\n",
    "graph.add_edge( \"final_analysis\", END)\n",
    "\n",
    "workflow = graph.compile()\n",
    "\n"
   ]
  },
  {
   "cell_type": "code",
   "execution_count": 55,
   "id": "b369c999",
   "metadata": {},
   "outputs": [],
   "source": [
    "essay = \"\"\"India is a country with ancient history and vibrant traditions. It is home to many religions and languages which make it a unique nation. The Himalayas stand tall in the north while the seas surround the south. Great rivers flow through its plains and fertile lands feed millions of people.\n",
    "\n",
    "India is proud of its democratic system where every citizen has the right to vote. The youth of the nation play a major role in shaping the future with their energy and ideas. The country has made progress in technology space exploration and education. Yet poverty and inequality continue to create challenges.\n",
    "\n",
    "Indian culture is admired across the world. Yoga and Ayurveda bring health and balance. Festivals like Diwali and Holi bring joy and togetherness. Music dance and art showcase the creativity of the people.\n",
    "\n",
    "In conclusion India is a land full of contrasts. It carries the wisdom of its past while stepping into the future with confidence. The journey of India shows how unity can survive in diversity and how hope can grow even with challenges.\"\"\""
   ]
  },
  {
   "cell_type": "code",
   "execution_count": 56,
   "id": "80c883ec",
   "metadata": {},
   "outputs": [
    {
     "data": {
      "text/plain": [
       "{'essay': 'India is a country with ancient history and vibrant traditions. It is home to many religions and languages which make it a unique nation. The Himalayas stand tall in the north while the seas surround the south. Great rivers flow through its plains and fertile lands feed millions of people.\\n\\nIndia is proud of its democratic system where every citizen has the right to vote. The youth of the nation play a major role in shaping the future with their energy and ideas. The country has made progress in technology space exploration and education. Yet poverty and inequality continue to create challenges.\\n\\nIndian culture is admired across the world. Yoga and Ayurveda bring health and balance. Festivals like Diwali and Holi bring joy and togetherness. Music dance and art showcase the creativity of the people.\\n\\nIn conclusion India is a land full of contrasts. It carries the wisdom of its past while stepping into the future with confidence. The journey of India shows how unity can survive in diversity and how hope can grow even with challenges.',\n",
       " 'thoughts_feedback': 'The essay demonstrates good clarity of thoughts, presenting a well-structured and easy-to-understand overview of India. It covers various aspects like history, geography, democracy, progress, challenges, and culture effectively. The language is simple and direct, contributing to the overall readability. To further enhance the essay, consider adding a few more specific examples or delving slightly deeper into one or two of the points mentioned.',\n",
       " 'depth_feedback': \"The essay provides a good general overview of India, touching upon its geography, democracy, cultural heritage, and challenges. The structure is clear, with a logical flow from introduction to conclusion. However, the essay lacks depth and specific examples to support its claims. Many statements are general, and there's an opportunity to elaborate on the points made (e.g., specific technological advancements, details about poverty and inequality, or unique aspects of festivals). Adding more detailed insights and concrete examples would significantly enhance the essay's analytical quality and provide a more comprehensive understanding of the topics discussed.\",\n",
       " 'language_feedback': 'The language used in the essay is clear, concise, and effectively conveys the diverse aspects of India. The vocabulary is appropriate, contributing to a descriptive and engaging narrative. The essay is well-structured, allowing for a smooth flow of ideas from historical context to modern challenges and cultural richness. There are no significant grammatical errors or awkward phrasings, making it easy to read and understand. The analysis of language demonstrates a good command of descriptive writing.',\n",
       " 'final_feedback': \"This essay is highly praised for its **clarity, structure, and readability**. It provides a **well-organized and easy-to-understand general overview of India**, effectively covering diverse aspects such as its history, geography, democracy, progress, challenges, and rich culture. The **language used is consistently noted as clear, concise, direct, and grammatically sound**, with appropriate vocabulary, contributing to an engaging narrative and smooth flow of ideas.\\n\\nHowever, the primary area for enhancement is **depth and specificity**. While the essay offers a good broad perspective, it often relies on general statements and **lacks concrete examples or detailed insights** to fully support its claims. To significantly elevate the essay's analytical quality and provide a more comprehensive understanding, it is recommended to:\\n\\n*   **Incorporate more specific examples:** For instance, detailing specific technological advancements, unique aspects of festivals, or concrete illustrations of socio-economic challenges like poverty and inequality.\\n*   **Delve deeper into one or two key points:** Elaborating on selected topics would provide a richer and more nuanced discussion.\\n\\nImplementing these suggestions would transform the essay from a strong overview into a more robust and analytically rich piece.\",\n",
       " 'final_score': 7.333333333333333,\n",
       " 'individual_score': [6, 8, 8]}"
      ]
     },
     "execution_count": 56,
     "metadata": {},
     "output_type": "execute_result"
    }
   ],
   "source": [
    "workflow.invoke( {\"essay\": essay})"
   ]
  }
 ],
 "metadata": {
  "kernelspec": {
   "display_name": "myenv",
   "language": "python",
   "name": "python3"
  },
  "language_info": {
   "codemirror_mode": {
    "name": "ipython",
    "version": 3
   },
   "file_extension": ".py",
   "mimetype": "text/x-python",
   "name": "python",
   "nbconvert_exporter": "python",
   "pygments_lexer": "ipython3",
   "version": "3.12.1"
  }
 },
 "nbformat": 4,
 "nbformat_minor": 5
}
